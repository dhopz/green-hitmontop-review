{
 "cells": [
  {
   "cell_type": "markdown",
   "metadata": {},
   "source": [
    "Code Review"
   ]
  },
  {
   "cell_type": "code",
   "execution_count": 9,
   "metadata": {},
   "outputs": [
    {
     "data": {
      "text/plain": [
       "(2, 2, 1)"
      ]
     },
     "execution_count": 9,
     "metadata": {},
     "output_type": "execute_result"
    }
   ],
   "source": [
    "results = [\"Green\", \"Green\", \"Red\", \"Amber\", \"Red\"]\n",
    "\n",
    "a = results.count(\"Green\")\n",
    "b = results.count(\"Red\")\n",
    "c = results.count(\"Amber\")\n",
    "# for result in results:\n",
    "#     green,red,amber = 0,0,0\n",
    "#     if result == \"Green\":\n",
    "#         green += 1\n",
    "#     elif result == 'Red':\n",
    "#         red += 1\n",
    "#     elif result == \"Amber\":\n",
    "#         amber +=1\n",
    "\n",
    "a,b,c\n",
    "        "
   ]
  }
 ],
 "metadata": {
  "kernelspec": {
   "display_name": "Python 3.8.9 64-bit",
   "language": "python",
   "name": "python3"
  },
  "language_info": {
   "codemirror_mode": {
    "name": "ipython",
    "version": 3
   },
   "file_extension": ".py",
   "mimetype": "text/x-python",
   "name": "python",
   "nbconvert_exporter": "python",
   "pygments_lexer": "ipython3",
   "version": "3.8.9"
  },
  "orig_nbformat": 4,
  "vscode": {
   "interpreter": {
    "hash": "31f2aee4e71d21fbe5cf8b01ff0e069b9275f58929596ceb00d14d90e3e16cd6"
   }
  }
 },
 "nbformat": 4,
 "nbformat_minor": 2
}
